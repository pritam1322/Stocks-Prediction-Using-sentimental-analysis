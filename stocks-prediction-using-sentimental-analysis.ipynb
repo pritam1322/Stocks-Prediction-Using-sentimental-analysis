{
 "cells": [
  {
   "cell_type": "code",
   "execution_count": 1,
   "metadata": {
    "execution": {
     "iopub.execute_input": "2020-11-19T14:47:24.634352Z",
     "iopub.status.busy": "2020-11-19T14:47:24.633531Z",
     "iopub.status.idle": "2020-11-19T14:47:29.778535Z",
     "shell.execute_reply": "2020-11-19T14:47:29.777648Z"
    },
    "papermill": {
     "duration": 5.192612,
     "end_time": "2020-11-19T14:47:29.778672",
     "exception": false,
     "start_time": "2020-11-19T14:47:24.586060",
     "status": "completed"
    },
    "tags": []
   },
   "outputs": [],
   "source": [
    "import math\n",
    "import pandas_datareader as web\n",
    "import numpy as np\n",
    "import pandas as pd\n",
    "from sklearn.preprocessing import MinMaxScaler\n",
    "from keras.models import Sequential\n",
    "from keras.layers import Dense, LSTM\n",
    "import matplotlib.pyplot as plt"
   ]
  },
  {
   "cell_type": "code",
   "execution_count": 2,
   "metadata": {
    "execution": {
     "iopub.execute_input": "2020-11-19T14:47:29.847848Z",
     "iopub.status.busy": "2020-11-19T14:47:29.846981Z",
     "iopub.status.idle": "2020-11-19T14:47:30.998571Z",
     "shell.execute_reply": "2020-11-19T14:47:30.997885Z"
    },
    "papermill": {
     "duration": 1.1891,
     "end_time": "2020-11-19T14:47:30.998687",
     "exception": false,
     "start_time": "2020-11-19T14:47:29.809587",
     "status": "completed"
    },
    "tags": []
   },
   "outputs": [],
   "source": [
    "df = web.DataReader('^BSESN', data_source='yahoo', start='2018-01-01', end='2020-06-30')"
   ]
  },
  {
   "cell_type": "code",
   "execution_count": 3,
   "metadata": {
    "execution": {
     "iopub.execute_input": "2020-11-19T14:47:31.077882Z",
     "iopub.status.busy": "2020-11-19T14:47:31.076985Z",
     "iopub.status.idle": "2020-11-19T14:47:31.087310Z",
     "shell.execute_reply": "2020-11-19T14:47:31.087858Z"
    },
    "papermill": {
     "duration": 0.055963,
     "end_time": "2020-11-19T14:47:31.087973",
     "exception": false,
     "start_time": "2020-11-19T14:47:31.032010",
     "status": "completed"
    },
    "tags": []
   },
   "outputs": [
    {
     "data": {
      "text/html": [
       "<div>\n",
       "<style scoped>\n",
       "    .dataframe tbody tr th:only-of-type {\n",
       "        vertical-align: middle;\n",
       "    }\n",
       "\n",
       "    .dataframe tbody tr th {\n",
       "        vertical-align: top;\n",
       "    }\n",
       "\n",
       "    .dataframe thead th {\n",
       "        text-align: right;\n",
       "    }\n",
       "</style>\n",
       "<table border=\"1\" class=\"dataframe\">\n",
       "  <thead>\n",
       "    <tr style=\"text-align: right;\">\n",
       "      <th></th>\n",
       "      <th>Date</th>\n",
       "      <th>High</th>\n",
       "      <th>Low</th>\n",
       "      <th>Open</th>\n",
       "      <th>Close</th>\n",
       "      <th>Volume</th>\n",
       "      <th>Adj Close</th>\n",
       "    </tr>\n",
       "  </thead>\n",
       "  <tbody>\n",
       "    <tr>\n",
       "      <th>0</th>\n",
       "      <td>2018-01-01</td>\n",
       "      <td>34101.128906</td>\n",
       "      <td>33766.148438</td>\n",
       "      <td>34059.988281</td>\n",
       "      <td>33812.750000</td>\n",
       "      <td>7500.0</td>\n",
       "      <td>33812.750000</td>\n",
       "    </tr>\n",
       "    <tr>\n",
       "      <th>1</th>\n",
       "      <td>2018-01-02</td>\n",
       "      <td>33964.140625</td>\n",
       "      <td>33703.371094</td>\n",
       "      <td>33913.550781</td>\n",
       "      <td>33812.261719</td>\n",
       "      <td>10600.0</td>\n",
       "      <td>33812.261719</td>\n",
       "    </tr>\n",
       "    <tr>\n",
       "      <th>2</th>\n",
       "      <td>2018-01-03</td>\n",
       "      <td>33998.371094</td>\n",
       "      <td>33765.429688</td>\n",
       "      <td>33929.609375</td>\n",
       "      <td>33793.378906</td>\n",
       "      <td>9000.0</td>\n",
       "      <td>33793.378906</td>\n",
       "    </tr>\n",
       "    <tr>\n",
       "      <th>3</th>\n",
       "      <td>2018-01-04</td>\n",
       "      <td>33995.398438</td>\n",
       "      <td>33802.128906</td>\n",
       "      <td>33912.488281</td>\n",
       "      <td>33969.640625</td>\n",
       "      <td>10500.0</td>\n",
       "      <td>33969.640625</td>\n",
       "    </tr>\n",
       "    <tr>\n",
       "      <th>4</th>\n",
       "      <td>2018-01-05</td>\n",
       "      <td>34188.851562</td>\n",
       "      <td>34020.839844</td>\n",
       "      <td>34021.269531</td>\n",
       "      <td>34153.851562</td>\n",
       "      <td>14700.0</td>\n",
       "      <td>34153.851562</td>\n",
       "    </tr>\n",
       "  </tbody>\n",
       "</table>\n",
       "</div>"
      ],
      "text/plain": [
       "        Date          High           Low          Open         Close   Volume  \\\n",
       "0 2018-01-01  34101.128906  33766.148438  34059.988281  33812.750000   7500.0   \n",
       "1 2018-01-02  33964.140625  33703.371094  33913.550781  33812.261719  10600.0   \n",
       "2 2018-01-03  33998.371094  33765.429688  33929.609375  33793.378906   9000.0   \n",
       "3 2018-01-04  33995.398438  33802.128906  33912.488281  33969.640625  10500.0   \n",
       "4 2018-01-05  34188.851562  34020.839844  34021.269531  34153.851562  14700.0   \n",
       "\n",
       "      Adj Close  \n",
       "0  33812.750000  \n",
       "1  33812.261719  \n",
       "2  33793.378906  \n",
       "3  33969.640625  \n",
       "4  34153.851562  "
      ]
     },
     "execution_count": 3,
     "metadata": {},
     "output_type": "execute_result"
    }
   ],
   "source": [
    "df=df.reset_index(['Date'])\n",
    "df.head()"
   ]
  },
  {
   "cell_type": "code",
   "execution_count": 4,
   "metadata": {
    "execution": {
     "iopub.execute_input": "2020-11-19T14:47:31.158556Z",
     "iopub.status.busy": "2020-11-19T14:47:31.157852Z",
     "iopub.status.idle": "2020-11-19T14:47:31.395963Z",
     "shell.execute_reply": "2020-11-19T14:47:31.396474Z"
    },
    "papermill": {
     "duration": 0.276268,
     "end_time": "2020-11-19T14:47:31.396610",
     "exception": false,
     "start_time": "2020-11-19T14:47:31.120342",
     "status": "completed"
    },
    "tags": []
   },
   "outputs": [
    {
     "data": {
      "image/png": "[encoded data removed]",
      "text/plain": [
       "<Figure size 1152x576 with 1 Axes>"
      ]
     },
     "metadata": {
      "needs_background": "light"
     },
     "output_type": "display_data"
    }
   ],
   "source": [
    "plt.figure(figsize=(16,8))\n",
    "plt.title('Close Price History')\n",
    "plt.plot(df['Close'])\n",
    "plt.xlabel('Date',fontsize=18)\n",
    "plt.ylabel('Close Price USD ($)',fontsize=18)\n",
    "plt.show()"
   ]
  },
  {
   "cell_type": "code",
   "execution_count": 5,
   "metadata": {
    "execution": {
     "iopub.execute_input": "2020-11-19T14:47:31.471464Z",
     "iopub.status.busy": "2020-11-19T14:47:31.470696Z",
     "iopub.status.idle": "2020-11-19T14:47:31.473732Z",
     "shell.execute_reply": "2020-11-19T14:47:31.473222Z"
    },
    "papermill": {
     "duration": 0.043186,
     "end_time": "2020-11-19T14:47:31.473828",
     "exception": false,
     "start_time": "2020-11-19T14:47:31.430642",
     "status": "completed"
    },
    "tags": []
   },
   "outputs": [],
   "source": [
    "df['Date']=pd.to_datetime(df['Date'])"
   ]
  },
  {
   "cell_type": "code",
   "execution_count": 6,
   "metadata": {
    "execution": {
     "iopub.execute_input": "2020-11-19T14:47:31.549859Z",
     "iopub.status.busy": "2020-11-19T14:47:31.549018Z",
     "iopub.status.idle": "2020-11-19T14:47:35.680506Z",
     "shell.execute_reply": "2020-11-19T14:47:35.679296Z"
    },
    "papermill": {
     "duration": 4.173424,
     "end_time": "2020-11-19T14:47:35.680642",
     "exception": false,
     "start_time": "2020-11-19T14:47:31.507218",
     "status": "completed"
    },
    "tags": []
   },
   "outputs": [],
   "source": [
    "dt=pd.read_csv('../input/india-headlines-news-dataset/india-news-headlines.csv')"
   ]
  },
  {
   "cell_type": "code",
   "execution_count": 7,
   "metadata": {
    "execution": {
     "iopub.execute_input": "2020-11-19T14:47:35.784412Z",
     "iopub.status.busy": "2020-11-19T14:47:35.783265Z",
     "iopub.status.idle": "2020-11-19T14:47:36.035318Z",
     "shell.execute_reply": "2020-11-19T14:47:36.035878Z"
    },
    "papermill": {
     "duration": 0.315882,
     "end_time": "2020-11-19T14:47:36.036027",
     "exception": false,
     "start_time": "2020-11-19T14:47:35.720145",
     "status": "completed"
    },
    "tags": []
   },
   "outputs": [
    {
     "data": {
      "text/html": [
       "<div>\n",
       "<style scoped>\n",
       "    .dataframe tbody tr th:only-of-type {\n",
       "        vertical-align: middle;\n",
       "    }\n",
       "\n",
       "    .dataframe tbody tr th {\n",
       "        vertical-align: top;\n",
       "    }\n",
       "\n",
       "    .dataframe thead th {\n",
       "        text-align: right;\n",
       "    }\n",
       "</style>\n",
       "<table border=\"1\" class=\"dataframe\">\n",
       "  <thead>\n",
       "    <tr style=\"text-align: right;\">\n",
       "      <th></th>\n",
       "      <th>Date</th>\n",
       "      <th>headline_text</th>\n",
       "    </tr>\n",
       "  </thead>\n",
       "  <tbody>\n",
       "    <tr>\n",
       "      <th>0</th>\n",
       "      <td>2001-01-01</td>\n",
       "      <td>win over cena satisfying but defeating underta...</td>\n",
       "    </tr>\n",
       "    <tr>\n",
       "      <th>1</th>\n",
       "      <td>2001-01-02</td>\n",
       "      <td>Status quo will not be disturbed at Ayodhya; s...</td>\n",
       "    </tr>\n",
       "    <tr>\n",
       "      <th>2</th>\n",
       "      <td>2001-01-02</td>\n",
       "      <td>Fissures in Hurriyat over Pak visit</td>\n",
       "    </tr>\n",
       "    <tr>\n",
       "      <th>3</th>\n",
       "      <td>2001-01-02</td>\n",
       "      <td>America's unwanted heading for India?</td>\n",
       "    </tr>\n",
       "    <tr>\n",
       "      <th>4</th>\n",
       "      <td>2001-01-02</td>\n",
       "      <td>For bigwigs; it is destination Goa</td>\n",
       "    </tr>\n",
       "  </tbody>\n",
       "</table>\n",
       "</div>"
      ],
      "text/plain": [
       "        Date                                      headline_text\n",
       "0 2001-01-01  win over cena satisfying but defeating underta...\n",
       "1 2001-01-02  Status quo will not be disturbed at Ayodhya; s...\n",
       "2 2001-01-02                Fissures in Hurriyat over Pak visit\n",
       "3 2001-01-02              America's unwanted heading for India?\n",
       "4 2001-01-02                 For bigwigs; it is destination Goa"
      ]
     },
     "execution_count": 7,
     "metadata": {},
     "output_type": "execute_result"
    }
   ],
   "source": [
    "dt.drop(columns=['headline_category'],axis=1,inplace=True)\n",
    "dt['publish_date']=pd.to_datetime(dt['publish_date'],format='%Y%m%d')\n",
    "dt=dt.rename(columns={'publish_date':'Date'})\n",
    "dt.head()"
   ]
  },
  {
   "cell_type": "code",
   "execution_count": 8,
   "metadata": {
    "execution": {
     "iopub.execute_input": "2020-11-19T14:47:36.121480Z",
     "iopub.status.busy": "2020-11-19T14:47:36.120611Z",
     "iopub.status.idle": "2020-11-19T14:47:36.419271Z",
     "shell.execute_reply": "2020-11-19T14:47:36.418649Z"
    },
    "papermill": {
     "duration": 0.343874,
     "end_time": "2020-11-19T14:47:36.419389",
     "exception": false,
     "start_time": "2020-11-19T14:47:36.075515",
     "status": "completed"
    },
    "tags": []
   },
   "outputs": [],
   "source": [
    "dt=dt[(dt['Date'].dt.year >= 2018)]"
   ]
  },
  {
   "cell_type": "code",
   "execution_count": 9,
   "metadata": {
    "execution": {
     "iopub.execute_input": "2020-11-19T14:47:36.498552Z",
     "iopub.status.busy": "2020-11-19T14:47:36.497688Z",
     "iopub.status.idle": "2020-11-19T14:47:36.503537Z",
     "shell.execute_reply": "2020-11-19T14:47:36.502890Z"
    },
    "papermill": {
     "duration": 0.047847,
     "end_time": "2020-11-19T14:47:36.503644",
     "exception": false,
     "start_time": "2020-11-19T14:47:36.455797",
     "status": "completed"
    },
    "tags": []
   },
   "outputs": [
    {
     "data": {
      "text/plain": [
       "(527615, 2)"
      ]
     },
     "execution_count": 9,
     "metadata": {},
     "output_type": "execute_result"
    }
   ],
   "source": [
    "dt.shape"
   ]
  },
  {
   "cell_type": "code",
   "execution_count": 10,
   "metadata": {
    "execution": {
     "iopub.execute_input": "2020-11-19T14:47:36.635326Z",
     "iopub.status.busy": "2020-11-19T14:47:36.634179Z",
     "iopub.status.idle": "2020-11-19T14:47:38.913700Z",
     "shell.execute_reply": "2020-11-19T14:47:38.913155Z"
    },
    "papermill": {
     "duration": 2.373721,
     "end_time": "2020-11-19T14:47:38.913845",
     "exception": false,
     "start_time": "2020-11-19T14:47:36.540124",
     "status": "completed"
    },
    "tags": []
   },
   "outputs": [],
   "source": [
    "dt.dropna(inplace=True)\n",
    " \n",
    "blanks = []  # start with an empty list\n",
    " \n",
    "for i,lb,rv in dt.itertuples():  \n",
    "    if type(rv)==str:            \n",
    "        if rv.isspace():         # test 'review' for spaces\n",
    "            blanks.append(i)     # add matching index numbers to the list\n",
    "dt.drop(blanks, inplace=True)"
   ]
  },
  {
   "cell_type": "code",
   "execution_count": 11,
   "metadata": {
    "execution": {
     "iopub.execute_input": "2020-11-19T14:47:38.992265Z",
     "iopub.status.busy": "2020-11-19T14:47:38.991228Z",
     "iopub.status.idle": "2020-11-19T14:47:39.015035Z",
     "shell.execute_reply": "2020-11-19T14:47:39.015595Z"
    },
    "papermill": {
     "duration": 0.065016,
     "end_time": "2020-11-19T14:47:39.015731",
     "exception": false,
     "start_time": "2020-11-19T14:47:38.950715",
     "status": "completed"
    },
    "tags": []
   },
   "outputs": [
    {
     "data": {
      "text/html": [
       "<div>\n",
       "<style scoped>\n",
       "    .dataframe tbody tr th:only-of-type {\n",
       "        vertical-align: middle;\n",
       "    }\n",
       "\n",
       "    .dataframe tbody tr th {\n",
       "        vertical-align: top;\n",
       "    }\n",
       "\n",
       "    .dataframe thead th {\n",
       "        text-align: right;\n",
       "    }\n",
       "</style>\n",
       "<table border=\"1\" class=\"dataframe\">\n",
       "  <thead>\n",
       "    <tr style=\"text-align: right;\">\n",
       "      <th></th>\n",
       "      <th>Date</th>\n",
       "      <th>headline_text</th>\n",
       "    </tr>\n",
       "  </thead>\n",
       "  <tbody>\n",
       "    <tr>\n",
       "      <th>0</th>\n",
       "      <td>2018-01-01</td>\n",
       "      <td>5 easy beauty resolutions you can follow in 2017</td>\n",
       "    </tr>\n",
       "    <tr>\n",
       "      <th>1</th>\n",
       "      <td>2018-01-01</td>\n",
       "      <td>Survey proposes law to promote transparency of...</td>\n",
       "    </tr>\n",
       "    <tr>\n",
       "      <th>2</th>\n",
       "      <td>2018-01-01</td>\n",
       "      <td>'We've to depend on overpriced cab services to...</td>\n",
       "    </tr>\n",
       "    <tr>\n",
       "      <th>3</th>\n",
       "      <td>2018-01-01</td>\n",
       "      <td>planning to make your diet better in 2018 just...</td>\n",
       "    </tr>\n",
       "    <tr>\n",
       "      <th>4</th>\n",
       "      <td>2018-01-01</td>\n",
       "      <td>New Year Resolutions 2018: Let's aim for these...</td>\n",
       "    </tr>\n",
       "    <tr>\n",
       "      <th>...</th>\n",
       "      <td>...</td>\n",
       "      <td>...</td>\n",
       "    </tr>\n",
       "    <tr>\n",
       "      <th>527610</th>\n",
       "      <td>2020-06-30</td>\n",
       "      <td>why tiktok removed 1 65 crore videos in india</td>\n",
       "    </tr>\n",
       "    <tr>\n",
       "      <th>527611</th>\n",
       "      <td>2020-06-30</td>\n",
       "      <td>apurva asrani calls alia bhatts mother soni ra...</td>\n",
       "    </tr>\n",
       "    <tr>\n",
       "      <th>527612</th>\n",
       "      <td>2020-06-30</td>\n",
       "      <td>kangana ranaut gets a doll version of herself ...</td>\n",
       "    </tr>\n",
       "    <tr>\n",
       "      <th>527613</th>\n",
       "      <td>2020-06-30</td>\n",
       "      <td>meezaan jaffrey reminisces his childhood days ...</td>\n",
       "    </tr>\n",
       "    <tr>\n",
       "      <th>527614</th>\n",
       "      <td>2020-06-30</td>\n",
       "      <td>prabhas20 titled as radhe shyam prabhas and po...</td>\n",
       "    </tr>\n",
       "  </tbody>\n",
       "</table>\n",
       "<p>527615 rows × 2 columns</p>\n",
       "</div>"
      ],
      "text/plain": [
       "             Date                                      headline_text\n",
       "0      2018-01-01   5 easy beauty resolutions you can follow in 2017\n",
       "1      2018-01-01  Survey proposes law to promote transparency of...\n",
       "2      2018-01-01  'We've to depend on overpriced cab services to...\n",
       "3      2018-01-01  planning to make your diet better in 2018 just...\n",
       "4      2018-01-01  New Year Resolutions 2018: Let's aim for these...\n",
       "...           ...                                                ...\n",
       "527610 2020-06-30      why tiktok removed 1 65 crore videos in india\n",
       "527611 2020-06-30  apurva asrani calls alia bhatts mother soni ra...\n",
       "527612 2020-06-30  kangana ranaut gets a doll version of herself ...\n",
       "527613 2020-06-30  meezaan jaffrey reminisces his childhood days ...\n",
       "527614 2020-06-30  prabhas20 titled as radhe shyam prabhas and po...\n",
       "\n",
       "[527615 rows x 2 columns]"
      ]
     },
     "execution_count": 11,
     "metadata": {},
     "output_type": "execute_result"
    }
   ],
   "source": [
    "dt=dt.reset_index(drop=True)\n",
    "dt"
   ]
  },
  {
   "cell_type": "code",
   "execution_count": 12,
   "metadata": {
    "execution": {
     "iopub.execute_input": "2020-11-19T14:47:39.098934Z",
     "iopub.status.busy": "2020-11-19T14:47:39.098065Z",
     "iopub.status.idle": "2020-11-19T14:47:39.174667Z",
     "shell.execute_reply": "2020-11-19T14:47:39.175208Z"
    },
    "papermill": {
     "duration": 0.120862,
     "end_time": "2020-11-19T14:47:39.175346",
     "exception": false,
     "start_time": "2020-11-19T14:47:39.054484",
     "status": "completed"
    },
    "tags": []
   },
   "outputs": [
    {
     "data": {
      "text/html": [
       "<div>\n",
       "<style scoped>\n",
       "    .dataframe tbody tr th:only-of-type {\n",
       "        vertical-align: middle;\n",
       "    }\n",
       "\n",
       "    .dataframe tbody tr th {\n",
       "        vertical-align: top;\n",
       "    }\n",
       "\n",
       "    .dataframe thead th {\n",
       "        text-align: right;\n",
       "    }\n",
       "</style>\n",
       "<table border=\"1\" class=\"dataframe\">\n",
       "  <thead>\n",
       "    <tr style=\"text-align: right;\">\n",
       "      <th></th>\n",
       "      <th>Date</th>\n",
       "      <th>headline_text</th>\n",
       "      <th>High</th>\n",
       "      <th>Low</th>\n",
       "      <th>Open</th>\n",
       "      <th>Close</th>\n",
       "      <th>Volume</th>\n",
       "      <th>Adj Close</th>\n",
       "    </tr>\n",
       "  </thead>\n",
       "  <tbody>\n",
       "    <tr>\n",
       "      <th>0</th>\n",
       "      <td>2018-01-01</td>\n",
       "      <td>5 easy beauty resolutions you can follow in 2017</td>\n",
       "      <td>34101.128906</td>\n",
       "      <td>33766.148438</td>\n",
       "      <td>34059.988281</td>\n",
       "      <td>33812.75</td>\n",
       "      <td>7500.0</td>\n",
       "      <td>33812.75</td>\n",
       "    </tr>\n",
       "    <tr>\n",
       "      <th>1</th>\n",
       "      <td>2018-01-01</td>\n",
       "      <td>Survey proposes law to promote transparency of...</td>\n",
       "      <td>34101.128906</td>\n",
       "      <td>33766.148438</td>\n",
       "      <td>34059.988281</td>\n",
       "      <td>33812.75</td>\n",
       "      <td>7500.0</td>\n",
       "      <td>33812.75</td>\n",
       "    </tr>\n",
       "    <tr>\n",
       "      <th>2</th>\n",
       "      <td>2018-01-01</td>\n",
       "      <td>'We've to depend on overpriced cab services to...</td>\n",
       "      <td>34101.128906</td>\n",
       "      <td>33766.148438</td>\n",
       "      <td>34059.988281</td>\n",
       "      <td>33812.75</td>\n",
       "      <td>7500.0</td>\n",
       "      <td>33812.75</td>\n",
       "    </tr>\n",
       "    <tr>\n",
       "      <th>3</th>\n",
       "      <td>2018-01-01</td>\n",
       "      <td>planning to make your diet better in 2018 just...</td>\n",
       "      <td>34101.128906</td>\n",
       "      <td>33766.148438</td>\n",
       "      <td>34059.988281</td>\n",
       "      <td>33812.75</td>\n",
       "      <td>7500.0</td>\n",
       "      <td>33812.75</td>\n",
       "    </tr>\n",
       "    <tr>\n",
       "      <th>4</th>\n",
       "      <td>2018-01-01</td>\n",
       "      <td>New Year Resolutions 2018: Let's aim for these...</td>\n",
       "      <td>34101.128906</td>\n",
       "      <td>33766.148438</td>\n",
       "      <td>34059.988281</td>\n",
       "      <td>33812.75</td>\n",
       "      <td>7500.0</td>\n",
       "      <td>33812.75</td>\n",
       "    </tr>\n",
       "  </tbody>\n",
       "</table>\n",
       "</div>"
      ],
      "text/plain": [
       "        Date                                      headline_text          High  \\\n",
       "0 2018-01-01   5 easy beauty resolutions you can follow in 2017  34101.128906   \n",
       "1 2018-01-01  Survey proposes law to promote transparency of...  34101.128906   \n",
       "2 2018-01-01  'We've to depend on overpriced cab services to...  34101.128906   \n",
       "3 2018-01-01  planning to make your diet better in 2018 just...  34101.128906   \n",
       "4 2018-01-01  New Year Resolutions 2018: Let's aim for these...  34101.128906   \n",
       "\n",
       "            Low          Open     Close  Volume  Adj Close  \n",
       "0  33766.148438  34059.988281  33812.75  7500.0   33812.75  \n",
       "1  33766.148438  34059.988281  33812.75  7500.0   33812.75  \n",
       "2  33766.148438  34059.988281  33812.75  7500.0   33812.75  \n",
       "3  33766.148438  34059.988281  33812.75  7500.0   33812.75  \n",
       "4  33766.148438  34059.988281  33812.75  7500.0   33812.75  "
      ]
     },
     "execution_count": 12,
     "metadata": {},
     "output_type": "execute_result"
    }
   ],
   "source": [
    "data=pd.merge(dt,df,how='outer',on='Date')\n",
    "data.head()"
   ]
  },
  {
   "cell_type": "code",
   "execution_count": 13,
   "metadata": {
    "execution": {
     "iopub.execute_input": "2020-11-19T14:47:39.262918Z",
     "iopub.status.busy": "2020-11-19T14:47:39.261924Z",
     "iopub.status.idle": "2020-11-19T14:47:39.281988Z",
     "shell.execute_reply": "2020-11-19T14:47:39.281449Z"
    },
    "papermill": {
     "duration": 0.066539,
     "end_time": "2020-11-19T14:47:39.282113",
     "exception": false,
     "start_time": "2020-11-19T14:47:39.215574",
     "status": "completed"
    },
    "tags": []
   },
   "outputs": [],
   "source": [
    "del data['High']\n",
    "del data['Low']\n",
    "del data['Open']\n",
    "del data['Volume']"
   ]
  },
  {
   "cell_type": "code",
   "execution_count": 14,
   "metadata": {
    "execution": {
     "iopub.execute_input": "2020-11-19T14:47:39.359885Z",
     "iopub.status.busy": "2020-11-19T14:47:39.359020Z",
     "iopub.status.idle": "2020-11-19T14:47:39.444995Z",
     "shell.execute_reply": "2020-11-19T14:47:39.444510Z"
    },
    "papermill": {
     "duration": 0.126253,
     "end_time": "2020-11-19T14:47:39.445120",
     "exception": false,
     "start_time": "2020-11-19T14:47:39.318867",
     "status": "completed"
    },
    "tags": []
   },
   "outputs": [
    {
     "data": {
      "text/html": [
       "<div>\n",
       "<style scoped>\n",
       "    .dataframe tbody tr th:only-of-type {\n",
       "        vertical-align: middle;\n",
       "    }\n",
       "\n",
       "    .dataframe tbody tr th {\n",
       "        vertical-align: top;\n",
       "    }\n",
       "\n",
       "    .dataframe thead th {\n",
       "        text-align: right;\n",
       "    }\n",
       "</style>\n",
       "<table border=\"1\" class=\"dataframe\">\n",
       "  <thead>\n",
       "    <tr style=\"text-align: right;\">\n",
       "      <th></th>\n",
       "      <th>Date</th>\n",
       "      <th>headline_text</th>\n",
       "      <th>Close</th>\n",
       "      <th>Adj Close</th>\n",
       "    </tr>\n",
       "  </thead>\n",
       "  <tbody>\n",
       "    <tr>\n",
       "      <th>0</th>\n",
       "      <td>2018-01-01</td>\n",
       "      <td>5 easy beauty resolutions you can follow in 2017</td>\n",
       "      <td>33812.750000</td>\n",
       "      <td>33812.750000</td>\n",
       "    </tr>\n",
       "    <tr>\n",
       "      <th>1</th>\n",
       "      <td>2018-01-01</td>\n",
       "      <td>Survey proposes law to promote transparency of...</td>\n",
       "      <td>33812.750000</td>\n",
       "      <td>33812.750000</td>\n",
       "    </tr>\n",
       "    <tr>\n",
       "      <th>2</th>\n",
       "      <td>2018-01-01</td>\n",
       "      <td>'We've to depend on overpriced cab services to...</td>\n",
       "      <td>33812.750000</td>\n",
       "      <td>33812.750000</td>\n",
       "    </tr>\n",
       "    <tr>\n",
       "      <th>3</th>\n",
       "      <td>2018-01-01</td>\n",
       "      <td>planning to make your diet better in 2018 just...</td>\n",
       "      <td>33812.750000</td>\n",
       "      <td>33812.750000</td>\n",
       "    </tr>\n",
       "    <tr>\n",
       "      <th>4</th>\n",
       "      <td>2018-01-01</td>\n",
       "      <td>New Year Resolutions 2018: Let's aim for these...</td>\n",
       "      <td>33812.750000</td>\n",
       "      <td>33812.750000</td>\n",
       "    </tr>\n",
       "    <tr>\n",
       "      <th>...</th>\n",
       "      <td>...</td>\n",
       "      <td>...</td>\n",
       "      <td>...</td>\n",
       "      <td>...</td>\n",
       "    </tr>\n",
       "    <tr>\n",
       "      <th>527610</th>\n",
       "      <td>2020-06-30</td>\n",
       "      <td>why tiktok removed 1 65 crore videos in india</td>\n",
       "      <td>34915.800781</td>\n",
       "      <td>34915.800781</td>\n",
       "    </tr>\n",
       "    <tr>\n",
       "      <th>527611</th>\n",
       "      <td>2020-06-30</td>\n",
       "      <td>apurva asrani calls alia bhatts mother soni ra...</td>\n",
       "      <td>34915.800781</td>\n",
       "      <td>34915.800781</td>\n",
       "    </tr>\n",
       "    <tr>\n",
       "      <th>527612</th>\n",
       "      <td>2020-06-30</td>\n",
       "      <td>kangana ranaut gets a doll version of herself ...</td>\n",
       "      <td>34915.800781</td>\n",
       "      <td>34915.800781</td>\n",
       "    </tr>\n",
       "    <tr>\n",
       "      <th>527613</th>\n",
       "      <td>2020-06-30</td>\n",
       "      <td>meezaan jaffrey reminisces his childhood days ...</td>\n",
       "      <td>34915.800781</td>\n",
       "      <td>34915.800781</td>\n",
       "    </tr>\n",
       "    <tr>\n",
       "      <th>527614</th>\n",
       "      <td>2020-06-30</td>\n",
       "      <td>prabhas20 titled as radhe shyam prabhas and po...</td>\n",
       "      <td>34915.800781</td>\n",
       "      <td>34915.800781</td>\n",
       "    </tr>\n",
       "  </tbody>\n",
       "</table>\n",
       "<p>352170 rows × 4 columns</p>\n",
       "</div>"
      ],
      "text/plain": [
       "             Date                                      headline_text  \\\n",
       "0      2018-01-01   5 easy beauty resolutions you can follow in 2017   \n",
       "1      2018-01-01  Survey proposes law to promote transparency of...   \n",
       "2      2018-01-01  'We've to depend on overpriced cab services to...   \n",
       "3      2018-01-01  planning to make your diet better in 2018 just...   \n",
       "4      2018-01-01  New Year Resolutions 2018: Let's aim for these...   \n",
       "...           ...                                                ...   \n",
       "527610 2020-06-30      why tiktok removed 1 65 crore videos in india   \n",
       "527611 2020-06-30  apurva asrani calls alia bhatts mother soni ra...   \n",
       "527612 2020-06-30  kangana ranaut gets a doll version of herself ...   \n",
       "527613 2020-06-30  meezaan jaffrey reminisces his childhood days ...   \n",
       "527614 2020-06-30  prabhas20 titled as radhe shyam prabhas and po...   \n",
       "\n",
       "               Close     Adj Close  \n",
       "0       33812.750000  33812.750000  \n",
       "1       33812.750000  33812.750000  \n",
       "2       33812.750000  33812.750000  \n",
       "3       33812.750000  33812.750000  \n",
       "4       33812.750000  33812.750000  \n",
       "...              ...           ...  \n",
       "527610  34915.800781  34915.800781  \n",
       "527611  34915.800781  34915.800781  \n",
       "527612  34915.800781  34915.800781  \n",
       "527613  34915.800781  34915.800781  \n",
       "527614  34915.800781  34915.800781  \n",
       "\n",
       "[352170 rows x 4 columns]"
      ]
     },
     "execution_count": 14,
     "metadata": {},
     "output_type": "execute_result"
    }
   ],
   "source": [
    "data.dropna(0)"
   ]
  },
  {
   "cell_type": "code",
   "execution_count": 15,
   "metadata": {
    "execution": {
     "iopub.execute_input": "2020-11-19T14:47:39.529839Z",
     "iopub.status.busy": "2020-11-19T14:47:39.528954Z",
     "iopub.status.idle": "2020-11-19T14:47:39.533370Z",
     "shell.execute_reply": "2020-11-19T14:47:39.532805Z"
    },
    "papermill": {
     "duration": 0.049087,
     "end_time": "2020-11-19T14:47:39.533466",
     "exception": false,
     "start_time": "2020-11-19T14:47:39.484379",
     "status": "completed"
    },
    "tags": []
   },
   "outputs": [],
   "source": [
    "data['Adj Close'].fillna(0,inplace=True)"
   ]
  },
  {
   "cell_type": "code",
   "execution_count": 16,
   "metadata": {
    "execution": {
     "iopub.execute_input": "2020-11-19T14:47:39.616458Z",
     "iopub.status.busy": "2020-11-19T14:47:39.615545Z",
     "iopub.status.idle": "2020-11-19T14:47:39.619368Z",
     "shell.execute_reply": "2020-11-19T14:47:39.619876Z"
    },
    "papermill": {
     "duration": 0.048515,
     "end_time": "2020-11-19T14:47:39.620005",
     "exception": false,
     "start_time": "2020-11-19T14:47:39.571490",
     "status": "completed"
    },
    "tags": []
   },
   "outputs": [
    {
     "data": {
      "text/plain": [
       "Date             datetime64[ns]\n",
       "headline_text            object\n",
       "Close                   float64\n",
       "Adj Close               float64\n",
       "dtype: object"
      ]
     },
     "execution_count": 16,
     "metadata": {},
     "output_type": "execute_result"
    }
   ],
   "source": [
    "data.dtypes"
   ]
  },
  {
   "cell_type": "code",
   "execution_count": 17,
   "metadata": {
    "execution": {
     "iopub.execute_input": "2020-11-19T14:47:39.704244Z",
     "iopub.status.busy": "2020-11-19T14:47:39.703443Z",
     "iopub.status.idle": "2020-11-19T14:47:39.716098Z",
     "shell.execute_reply": "2020-11-19T14:47:39.716632Z"
    },
    "papermill": {
     "duration": 0.059007,
     "end_time": "2020-11-19T14:47:39.716773",
     "exception": false,
     "start_time": "2020-11-19T14:47:39.657766",
     "status": "completed"
    },
    "tags": []
   },
   "outputs": [],
   "source": [
    "data = data[['Date','Close', 'headline_text']]"
   ]
  },
  {
   "cell_type": "code",
   "execution_count": 18,
   "metadata": {
    "execution": {
     "iopub.execute_input": "2020-11-19T14:47:39.798385Z",
     "iopub.status.busy": "2020-11-19T14:47:39.797463Z",
     "iopub.status.idle": "2020-11-19T14:47:39.880680Z",
     "shell.execute_reply": "2020-11-19T14:47:39.880138Z"
    },
    "papermill": {
     "duration": 0.126219,
     "end_time": "2020-11-19T14:47:39.880784",
     "exception": false,
     "start_time": "2020-11-19T14:47:39.754565",
     "status": "completed"
    },
    "tags": []
   },
   "outputs": [],
   "source": [
    "data=data.dropna(0)\n",
    "data = data.reset_index(drop = True) "
   ]
  },
  {
   "cell_type": "code",
   "execution_count": 19,
   "metadata": {
    "execution": {
     "iopub.execute_input": "2020-11-19T14:47:39.962730Z",
     "iopub.status.busy": "2020-11-19T14:47:39.961866Z",
     "iopub.status.idle": "2020-11-19T14:47:40.005401Z",
     "shell.execute_reply": "2020-11-19T14:47:40.004809Z"
    },
    "papermill": {
     "duration": 0.08613,
     "end_time": "2020-11-19T14:47:40.005511",
     "exception": false,
     "start_time": "2020-11-19T14:47:39.919381",
     "status": "completed"
    },
    "tags": []
   },
   "outputs": [
    {
     "data": {
      "text/plain": [
       "Date             0\n",
       "Close            0\n",
       "headline_text    0\n",
       "dtype: int64"
      ]
     },
     "execution_count": 19,
     "metadata": {},
     "output_type": "execute_result"
    }
   ],
   "source": [
    "data.isnull().sum()"
   ]
  },
  {
   "cell_type": "code",
   "execution_count": 20,
   "metadata": {
    "execution": {
     "iopub.execute_input": "2020-11-19T14:47:40.100682Z",
     "iopub.status.busy": "2020-11-19T14:47:40.100005Z",
     "iopub.status.idle": "2020-11-19T14:47:40.103755Z",
     "shell.execute_reply": "2020-11-19T14:47:40.104253Z"
    },
    "papermill": {
     "duration": 0.058884,
     "end_time": "2020-11-19T14:47:40.104372",
     "exception": false,
     "start_time": "2020-11-19T14:47:40.045488",
     "status": "completed"
    },
    "tags": []
   },
   "outputs": [
    {
     "data": {
      "text/html": [
       "<div>\n",
       "<style scoped>\n",
       "    .dataframe tbody tr th:only-of-type {\n",
       "        vertical-align: middle;\n",
       "    }\n",
       "\n",
       "    .dataframe tbody tr th {\n",
       "        vertical-align: top;\n",
       "    }\n",
       "\n",
       "    .dataframe thead th {\n",
       "        text-align: right;\n",
       "    }\n",
       "</style>\n",
       "<table border=\"1\" class=\"dataframe\">\n",
       "  <thead>\n",
       "    <tr style=\"text-align: right;\">\n",
       "      <th></th>\n",
       "      <th>Date</th>\n",
       "      <th>Close</th>\n",
       "      <th>headline_text</th>\n",
       "    </tr>\n",
       "  </thead>\n",
       "  <tbody>\n",
       "    <tr>\n",
       "      <th>0</th>\n",
       "      <td>2018-01-01</td>\n",
       "      <td>33812.750000</td>\n",
       "      <td>5 easy beauty resolutions you can follow in 2017</td>\n",
       "    </tr>\n",
       "    <tr>\n",
       "      <th>1</th>\n",
       "      <td>2018-01-01</td>\n",
       "      <td>33812.750000</td>\n",
       "      <td>Survey proposes law to promote transparency of...</td>\n",
       "    </tr>\n",
       "    <tr>\n",
       "      <th>2</th>\n",
       "      <td>2018-01-01</td>\n",
       "      <td>33812.750000</td>\n",
       "      <td>'We've to depend on overpriced cab services to...</td>\n",
       "    </tr>\n",
       "    <tr>\n",
       "      <th>3</th>\n",
       "      <td>2018-01-01</td>\n",
       "      <td>33812.750000</td>\n",
       "      <td>planning to make your diet better in 2018 just...</td>\n",
       "    </tr>\n",
       "    <tr>\n",
       "      <th>4</th>\n",
       "      <td>2018-01-01</td>\n",
       "      <td>33812.750000</td>\n",
       "      <td>New Year Resolutions 2018: Let's aim for these...</td>\n",
       "    </tr>\n",
       "    <tr>\n",
       "      <th>...</th>\n",
       "      <td>...</td>\n",
       "      <td>...</td>\n",
       "      <td>...</td>\n",
       "    </tr>\n",
       "    <tr>\n",
       "      <th>352165</th>\n",
       "      <td>2020-06-30</td>\n",
       "      <td>34915.800781</td>\n",
       "      <td>why tiktok removed 1 65 crore videos in india</td>\n",
       "    </tr>\n",
       "    <tr>\n",
       "      <th>352166</th>\n",
       "      <td>2020-06-30</td>\n",
       "      <td>34915.800781</td>\n",
       "      <td>apurva asrani calls alia bhatts mother soni ra...</td>\n",
       "    </tr>\n",
       "    <tr>\n",
       "      <th>352167</th>\n",
       "      <td>2020-06-30</td>\n",
       "      <td>34915.800781</td>\n",
       "      <td>kangana ranaut gets a doll version of herself ...</td>\n",
       "    </tr>\n",
       "    <tr>\n",
       "      <th>352168</th>\n",
       "      <td>2020-06-30</td>\n",
       "      <td>34915.800781</td>\n",
       "      <td>meezaan jaffrey reminisces his childhood days ...</td>\n",
       "    </tr>\n",
       "    <tr>\n",
       "      <th>352169</th>\n",
       "      <td>2020-06-30</td>\n",
       "      <td>34915.800781</td>\n",
       "      <td>prabhas20 titled as radhe shyam prabhas and po...</td>\n",
       "    </tr>\n",
       "  </tbody>\n",
       "</table>\n",
       "<p>352170 rows × 3 columns</p>\n",
       "</div>"
      ],
      "text/plain": [
       "             Date         Close  \\\n",
       "0      2018-01-01  33812.750000   \n",
       "1      2018-01-01  33812.750000   \n",
       "2      2018-01-01  33812.750000   \n",
       "3      2018-01-01  33812.750000   \n",
       "4      2018-01-01  33812.750000   \n",
       "...           ...           ...   \n",
       "352165 2020-06-30  34915.800781   \n",
       "352166 2020-06-30  34915.800781   \n",
       "352167 2020-06-30  34915.800781   \n",
       "352168 2020-06-30  34915.800781   \n",
       "352169 2020-06-30  34915.800781   \n",
       "\n",
       "                                            headline_text  \n",
       "0        5 easy beauty resolutions you can follow in 2017  \n",
       "1       Survey proposes law to promote transparency of...  \n",
       "2       'We've to depend on overpriced cab services to...  \n",
       "3       planning to make your diet better in 2018 just...  \n",
       "4       New Year Resolutions 2018: Let's aim for these...  \n",
       "...                                                   ...  \n",
       "352165      why tiktok removed 1 65 crore videos in india  \n",
       "352166  apurva asrani calls alia bhatts mother soni ra...  \n",
       "352167  kangana ranaut gets a doll version of herself ...  \n",
       "352168  meezaan jaffrey reminisces his childhood days ...  \n",
       "352169  prabhas20 titled as radhe shyam prabhas and po...  \n",
       "\n",
       "[352170 rows x 3 columns]"
      ]
     },
     "execution_count": 20,
     "metadata": {},
     "output_type": "execute_result"
    }
   ],
   "source": [
    "data"
   ]
  },
  {
   "cell_type": "code",
   "execution_count": 21,
   "metadata": {
    "execution": {
     "iopub.execute_input": "2020-11-19T14:47:40.191018Z",
     "iopub.status.busy": "2020-11-19T14:47:40.190128Z",
     "iopub.status.idle": "2020-11-19T14:47:40.201873Z",
     "shell.execute_reply": "2020-11-19T14:47:40.202426Z"
    },
    "papermill": {
     "duration": 0.057301,
     "end_time": "2020-11-19T14:47:40.202563",
     "exception": false,
     "start_time": "2020-11-19T14:47:40.145262",
     "status": "completed"
    },
    "tags": []
   },
   "outputs": [],
   "source": [
    "data['compound']=''\n",
    "data['neg']=''\n",
    "data['neu']=''\n",
    "data['pos']=''"
   ]
  },
  {
   "cell_type": "code",
   "execution_count": 22,
   "metadata": {
    "execution": {
     "iopub.execute_input": "2020-11-19T14:47:40.289133Z",
     "iopub.status.busy": "2020-11-19T14:47:40.288407Z",
     "iopub.status.idle": "2020-11-19T14:47:41.185896Z",
     "shell.execute_reply": "2020-11-19T14:47:41.186924Z"
    },
    "papermill": {
     "duration": 0.942752,
     "end_time": "2020-11-19T14:47:41.187114",
     "exception": false,
     "start_time": "2020-11-19T14:47:40.244362",
     "status": "completed"
    },
    "tags": []
   },
   "outputs": [
    {
     "name": "stderr",
     "output_type": "stream",
     "text": [
      "/opt/conda/lib/python3.7/site-packages/nltk/twitter/__init__.py:20: UserWarning: The twython library has not been installed. Some functionality from the twitter package will not be available.\n",
      "  warnings.warn(\"The twython library has not been installed. \"\n"
     ]
    }
   ],
   "source": [
    "from nltk.sentiment.vader import SentimentIntensityAnalyzer\n",
    "import unicodedata\n",
    "sid = SentimentIntensityAnalyzer()"
   ]
  },
  {
   "cell_type": "code",
   "execution_count": 23,
   "metadata": {
    "execution": {
     "iopub.execute_input": "2020-11-19T14:47:41.309467Z",
     "iopub.status.busy": "2020-11-19T14:47:41.308643Z",
     "iopub.status.idle": "2020-11-19T14:48:46.705032Z",
     "shell.execute_reply": "2020-11-19T14:48:46.706376Z"
    },
    "papermill": {
     "duration": 65.456718,
     "end_time": "2020-11-19T14:48:46.706587",
     "exception": false,
     "start_time": "2020-11-19T14:47:41.249869",
     "status": "completed"
    },
    "tags": []
   },
   "outputs": [],
   "source": [
    "data['scores'] = data['headline_text'].apply(lambda review: sid.polarity_scores(review))\n",
    "data['compound']  = data['scores'].apply(lambda s : s['compound']) \n",
    "data['neg']  = data['scores'].apply(lambda s : s['neg'])\n",
    "data['neu']  = data['scores'].apply(lambda s : s['neu'])\n",
    "data['pos']  = data['scores'].apply(lambda s : s['pos'])"
   ]
  },
  {
   "cell_type": "code",
   "execution_count": 24,
   "metadata": {
    "execution": {
     "iopub.execute_input": "2020-11-19T14:48:46.857637Z",
     "iopub.status.busy": "2020-11-19T14:48:46.854923Z",
     "iopub.status.idle": "2020-11-19T14:48:46.894224Z",
     "shell.execute_reply": "2020-11-19T14:48:46.895312Z"
    },
    "papermill": {
     "duration": 0.114835,
     "end_time": "2020-11-19T14:48:46.895479",
     "exception": false,
     "start_time": "2020-11-19T14:48:46.780644",
     "status": "completed"
    },
    "tags": []
   },
   "outputs": [
    {
     "data": {
      "text/html": [
       "<div>\n",
       "<style scoped>\n",
       "    .dataframe tbody tr th:only-of-type {\n",
       "        vertical-align: middle;\n",
       "    }\n",
       "\n",
       "    .dataframe tbody tr th {\n",
       "        vertical-align: top;\n",
       "    }\n",
       "\n",
       "    .dataframe thead th {\n",
       "        text-align: right;\n",
       "    }\n",
       "</style>\n",
       "<table border=\"1\" class=\"dataframe\">\n",
       "  <thead>\n",
       "    <tr style=\"text-align: right;\">\n",
       "      <th></th>\n",
       "      <th>Date</th>\n",
       "      <th>Close</th>\n",
       "      <th>headline_text</th>\n",
       "      <th>compound</th>\n",
       "      <th>neg</th>\n",
       "      <th>neu</th>\n",
       "      <th>pos</th>\n",
       "      <th>scores</th>\n",
       "    </tr>\n",
       "  </thead>\n",
       "  <tbody>\n",
       "    <tr>\n",
       "      <th>0</th>\n",
       "      <td>2018-01-01</td>\n",
       "      <td>33812.750000</td>\n",
       "      <td>5 easy beauty resolutions you can follow in 2017</td>\n",
       "      <td>0.7717</td>\n",
       "      <td>0.000</td>\n",
       "      <td>0.472</td>\n",
       "      <td>0.528</td>\n",
       "      <td>{'neg': 0.0, 'neu': 0.472, 'pos': 0.528, 'comp...</td>\n",
       "    </tr>\n",
       "    <tr>\n",
       "      <th>1</th>\n",
       "      <td>2018-01-01</td>\n",
       "      <td>33812.750000</td>\n",
       "      <td>Survey proposes law to promote transparency of...</td>\n",
       "      <td>0.3818</td>\n",
       "      <td>0.000</td>\n",
       "      <td>0.755</td>\n",
       "      <td>0.245</td>\n",
       "      <td>{'neg': 0.0, 'neu': 0.755, 'pos': 0.245, 'comp...</td>\n",
       "    </tr>\n",
       "    <tr>\n",
       "      <th>2</th>\n",
       "      <td>2018-01-01</td>\n",
       "      <td>33812.750000</td>\n",
       "      <td>'We've to depend on overpriced cab services to...</td>\n",
       "      <td>0.0000</td>\n",
       "      <td>0.000</td>\n",
       "      <td>1.000</td>\n",
       "      <td>0.000</td>\n",
       "      <td>{'neg': 0.0, 'neu': 1.0, 'pos': 0.0, 'compound...</td>\n",
       "    </tr>\n",
       "    <tr>\n",
       "      <th>3</th>\n",
       "      <td>2018-01-01</td>\n",
       "      <td>33812.750000</td>\n",
       "      <td>planning to make your diet better in 2018 just...</td>\n",
       "      <td>0.4404</td>\n",
       "      <td>0.000</td>\n",
       "      <td>0.805</td>\n",
       "      <td>0.195</td>\n",
       "      <td>{'neg': 0.0, 'neu': 0.805, 'pos': 0.195, 'comp...</td>\n",
       "    </tr>\n",
       "    <tr>\n",
       "      <th>4</th>\n",
       "      <td>2018-01-01</td>\n",
       "      <td>33812.750000</td>\n",
       "      <td>New Year Resolutions 2018: Let's aim for these...</td>\n",
       "      <td>-0.0772</td>\n",
       "      <td>0.106</td>\n",
       "      <td>0.894</td>\n",
       "      <td>0.000</td>\n",
       "      <td>{'neg': 0.106, 'neu': 0.894, 'pos': 0.0, 'comp...</td>\n",
       "    </tr>\n",
       "    <tr>\n",
       "      <th>...</th>\n",
       "      <td>...</td>\n",
       "      <td>...</td>\n",
       "      <td>...</td>\n",
       "      <td>...</td>\n",
       "      <td>...</td>\n",
       "      <td>...</td>\n",
       "      <td>...</td>\n",
       "      <td>...</td>\n",
       "    </tr>\n",
       "    <tr>\n",
       "      <th>352165</th>\n",
       "      <td>2020-06-30</td>\n",
       "      <td>34915.800781</td>\n",
       "      <td>why tiktok removed 1 65 crore videos in india</td>\n",
       "      <td>0.0000</td>\n",
       "      <td>0.000</td>\n",
       "      <td>1.000</td>\n",
       "      <td>0.000</td>\n",
       "      <td>{'neg': 0.0, 'neu': 1.0, 'pos': 0.0, 'compound...</td>\n",
       "    </tr>\n",
       "    <tr>\n",
       "      <th>352166</th>\n",
       "      <td>2020-06-30</td>\n",
       "      <td>34915.800781</td>\n",
       "      <td>apurva asrani calls alia bhatts mother soni ra...</td>\n",
       "      <td>0.0000</td>\n",
       "      <td>0.000</td>\n",
       "      <td>1.000</td>\n",
       "      <td>0.000</td>\n",
       "      <td>{'neg': 0.0, 'neu': 1.0, 'pos': 0.0, 'compound...</td>\n",
       "    </tr>\n",
       "    <tr>\n",
       "      <th>352167</th>\n",
       "      <td>2020-06-30</td>\n",
       "      <td>34915.800781</td>\n",
       "      <td>kangana ranaut gets a doll version of herself ...</td>\n",
       "      <td>0.2960</td>\n",
       "      <td>0.000</td>\n",
       "      <td>0.885</td>\n",
       "      <td>0.115</td>\n",
       "      <td>{'neg': 0.0, 'neu': 0.885, 'pos': 0.115, 'comp...</td>\n",
       "    </tr>\n",
       "    <tr>\n",
       "      <th>352168</th>\n",
       "      <td>2020-06-30</td>\n",
       "      <td>34915.800781</td>\n",
       "      <td>meezaan jaffrey reminisces his childhood days ...</td>\n",
       "      <td>0.4939</td>\n",
       "      <td>0.000</td>\n",
       "      <td>0.814</td>\n",
       "      <td>0.186</td>\n",
       "      <td>{'neg': 0.0, 'neu': 0.814, 'pos': 0.186, 'comp...</td>\n",
       "    </tr>\n",
       "    <tr>\n",
       "      <th>352169</th>\n",
       "      <td>2020-06-30</td>\n",
       "      <td>34915.800781</td>\n",
       "      <td>prabhas20 titled as radhe shyam prabhas and po...</td>\n",
       "      <td>0.2960</td>\n",
       "      <td>0.082</td>\n",
       "      <td>0.769</td>\n",
       "      <td>0.148</td>\n",
       "      <td>{'neg': 0.082, 'neu': 0.769, 'pos': 0.148, 'co...</td>\n",
       "    </tr>\n",
       "  </tbody>\n",
       "</table>\n",
       "<p>352170 rows × 8 columns</p>\n",
       "</div>"
      ],
      "text/plain": [
       "             Date         Close  \\\n",
       "0      2018-01-01  33812.750000   \n",
       "1      2018-01-01  33812.750000   \n",
       "2      2018-01-01  33812.750000   \n",
       "3      2018-01-01  33812.750000   \n",
       "4      2018-01-01  33812.750000   \n",
       "...           ...           ...   \n",
       "352165 2020-06-30  34915.800781   \n",
       "352166 2020-06-30  34915.800781   \n",
       "352167 2020-06-30  34915.800781   \n",
       "352168 2020-06-30  34915.800781   \n",
       "352169 2020-06-30  34915.800781   \n",
       "\n",
       "                                            headline_text  compound    neg  \\\n",
       "0        5 easy beauty resolutions you can follow in 2017    0.7717  0.000   \n",
       "1       Survey proposes law to promote transparency of...    0.3818  0.000   \n",
       "2       'We've to depend on overpriced cab services to...    0.0000  0.000   \n",
       "3       planning to make your diet better in 2018 just...    0.4404  0.000   \n",
       "4       New Year Resolutions 2018: Let's aim for these...   -0.0772  0.106   \n",
       "...                                                   ...       ...    ...   \n",
       "352165      why tiktok removed 1 65 crore videos in india    0.0000  0.000   \n",
       "352166  apurva asrani calls alia bhatts mother soni ra...    0.0000  0.000   \n",
       "352167  kangana ranaut gets a doll version of herself ...    0.2960  0.000   \n",
       "352168  meezaan jaffrey reminisces his childhood days ...    0.4939  0.000   \n",
       "352169  prabhas20 titled as radhe shyam prabhas and po...    0.2960  0.082   \n",
       "\n",
       "          neu    pos                                             scores  \n",
       "0       0.472  0.528  {'neg': 0.0, 'neu': 0.472, 'pos': 0.528, 'comp...  \n",
       "1       0.755  0.245  {'neg': 0.0, 'neu': 0.755, 'pos': 0.245, 'comp...  \n",
       "2       1.000  0.000  {'neg': 0.0, 'neu': 1.0, 'pos': 0.0, 'compound...  \n",
       "3       0.805  0.195  {'neg': 0.0, 'neu': 0.805, 'pos': 0.195, 'comp...  \n",
       "4       0.894  0.000  {'neg': 0.106, 'neu': 0.894, 'pos': 0.0, 'comp...  \n",
       "...       ...    ...                                                ...  \n",
       "352165  1.000  0.000  {'neg': 0.0, 'neu': 1.0, 'pos': 0.0, 'compound...  \n",
       "352166  1.000  0.000  {'neg': 0.0, 'neu': 1.0, 'pos': 0.0, 'compound...  \n",
       "352167  0.885  0.115  {'neg': 0.0, 'neu': 0.885, 'pos': 0.115, 'comp...  \n",
       "352168  0.814  0.186  {'neg': 0.0, 'neu': 0.814, 'pos': 0.186, 'comp...  \n",
       "352169  0.769  0.148  {'neg': 0.082, 'neu': 0.769, 'pos': 0.148, 'co...  \n",
       "\n",
       "[352170 rows x 8 columns]"
      ]
     },
     "execution_count": 24,
     "metadata": {},
     "output_type": "execute_result"
    }
   ],
   "source": [
    "data"
   ]
  },
  {
   "cell_type": "code",
   "execution_count": 25,
   "metadata": {
    "execution": {
     "iopub.execute_input": "2020-11-19T14:48:47.035412Z",
     "iopub.status.busy": "2020-11-19T14:48:47.034606Z",
     "iopub.status.idle": "2020-11-19T14:48:47.080939Z",
     "shell.execute_reply": "2020-11-19T14:48:47.081669Z"
    },
    "papermill": {
     "duration": 0.121172,
     "end_time": "2020-11-19T14:48:47.081837",
     "exception": false,
     "start_time": "2020-11-19T14:48:46.960665",
     "status": "completed"
    },
    "tags": []
   },
   "outputs": [],
   "source": [
    "final_data=data[['Date','compound','neg','neu','pos','Close']]"
   ]
  },
  {
   "cell_type": "code",
   "execution_count": 26,
   "metadata": {
    "execution": {
     "iopub.execute_input": "2020-11-19T14:48:47.234788Z",
     "iopub.status.busy": "2020-11-19T14:48:47.234086Z",
     "iopub.status.idle": "2020-11-19T14:48:47.246667Z",
     "shell.execute_reply": "2020-11-19T14:48:47.247642Z"
    },
    "papermill": {
     "duration": 0.086438,
     "end_time": "2020-11-19T14:48:47.247821",
     "exception": false,
     "start_time": "2020-11-19T14:48:47.161383",
     "status": "completed"
    },
    "tags": []
   },
   "outputs": [
    {
     "data": {
      "text/html": [
       "<div>\n",
       "<style scoped>\n",
       "    .dataframe tbody tr th:only-of-type {\n",
       "        vertical-align: middle;\n",
       "    }\n",
       "\n",
       "    .dataframe tbody tr th {\n",
       "        vertical-align: top;\n",
       "    }\n",
       "\n",
       "    .dataframe thead th {\n",
       "        text-align: right;\n",
       "    }\n",
       "</style>\n",
       "<table border=\"1\" class=\"dataframe\">\n",
       "  <thead>\n",
       "    <tr style=\"text-align: right;\">\n",
       "      <th></th>\n",
       "      <th>Date</th>\n",
       "      <th>compound</th>\n",
       "      <th>neg</th>\n",
       "      <th>neu</th>\n",
       "      <th>pos</th>\n",
       "      <th>Close</th>\n",
       "    </tr>\n",
       "  </thead>\n",
       "  <tbody>\n",
       "    <tr>\n",
       "      <th>0</th>\n",
       "      <td>2018-01-01</td>\n",
       "      <td>0.7717</td>\n",
       "      <td>0.000</td>\n",
       "      <td>0.472</td>\n",
       "      <td>0.528</td>\n",
       "      <td>33812.750000</td>\n",
       "    </tr>\n",
       "    <tr>\n",
       "      <th>1</th>\n",
       "      <td>2018-01-01</td>\n",
       "      <td>0.3818</td>\n",
       "      <td>0.000</td>\n",
       "      <td>0.755</td>\n",
       "      <td>0.245</td>\n",
       "      <td>33812.750000</td>\n",
       "    </tr>\n",
       "    <tr>\n",
       "      <th>2</th>\n",
       "      <td>2018-01-01</td>\n",
       "      <td>0.0000</td>\n",
       "      <td>0.000</td>\n",
       "      <td>1.000</td>\n",
       "      <td>0.000</td>\n",
       "      <td>33812.750000</td>\n",
       "    </tr>\n",
       "    <tr>\n",
       "      <th>3</th>\n",
       "      <td>2018-01-01</td>\n",
       "      <td>0.4404</td>\n",
       "      <td>0.000</td>\n",
       "      <td>0.805</td>\n",
       "      <td>0.195</td>\n",
       "      <td>33812.750000</td>\n",
       "    </tr>\n",
       "    <tr>\n",
       "      <th>4</th>\n",
       "      <td>2018-01-01</td>\n",
       "      <td>-0.0772</td>\n",
       "      <td>0.106</td>\n",
       "      <td>0.894</td>\n",
       "      <td>0.000</td>\n",
       "      <td>33812.750000</td>\n",
       "    </tr>\n",
       "    <tr>\n",
       "      <th>...</th>\n",
       "      <td>...</td>\n",
       "      <td>...</td>\n",
       "      <td>...</td>\n",
       "      <td>...</td>\n",
       "      <td>...</td>\n",
       "      <td>...</td>\n",
       "    </tr>\n",
       "    <tr>\n",
       "      <th>352165</th>\n",
       "      <td>2020-06-30</td>\n",
       "      <td>0.0000</td>\n",
       "      <td>0.000</td>\n",
       "      <td>1.000</td>\n",
       "      <td>0.000</td>\n",
       "      <td>34915.800781</td>\n",
       "    </tr>\n",
       "    <tr>\n",
       "      <th>352166</th>\n",
       "      <td>2020-06-30</td>\n",
       "      <td>0.0000</td>\n",
       "      <td>0.000</td>\n",
       "      <td>1.000</td>\n",
       "      <td>0.000</td>\n",
       "      <td>34915.800781</td>\n",
       "    </tr>\n",
       "    <tr>\n",
       "      <th>352167</th>\n",
       "      <td>2020-06-30</td>\n",
       "      <td>0.2960</td>\n",
       "      <td>0.000</td>\n",
       "      <td>0.885</td>\n",
       "      <td>0.115</td>\n",
       "      <td>34915.800781</td>\n",
       "    </tr>\n",
       "    <tr>\n",
       "      <th>352168</th>\n",
       "      <td>2020-06-30</td>\n",
       "      <td>0.4939</td>\n",
       "      <td>0.000</td>\n",
       "      <td>0.814</td>\n",
       "      <td>0.186</td>\n",
       "      <td>34915.800781</td>\n",
       "    </tr>\n",
       "    <tr>\n",
       "      <th>352169</th>\n",
       "      <td>2020-06-30</td>\n",
       "      <td>0.2960</td>\n",
       "      <td>0.082</td>\n",
       "      <td>0.769</td>\n",
       "      <td>0.148</td>\n",
       "      <td>34915.800781</td>\n",
       "    </tr>\n",
       "  </tbody>\n",
       "</table>\n",
       "<p>352170 rows × 6 columns</p>\n",
       "</div>"
      ],
      "text/plain": [
       "             Date  compound    neg    neu    pos         Close\n",
       "0      2018-01-01    0.7717  0.000  0.472  0.528  33812.750000\n",
       "1      2018-01-01    0.3818  0.000  0.755  0.245  33812.750000\n",
       "2      2018-01-01    0.0000  0.000  1.000  0.000  33812.750000\n",
       "3      2018-01-01    0.4404  0.000  0.805  0.195  33812.750000\n",
       "4      2018-01-01   -0.0772  0.106  0.894  0.000  33812.750000\n",
       "...           ...       ...    ...    ...    ...           ...\n",
       "352165 2020-06-30    0.0000  0.000  1.000  0.000  34915.800781\n",
       "352166 2020-06-30    0.0000  0.000  1.000  0.000  34915.800781\n",
       "352167 2020-06-30    0.2960  0.000  0.885  0.115  34915.800781\n",
       "352168 2020-06-30    0.4939  0.000  0.814  0.186  34915.800781\n",
       "352169 2020-06-30    0.2960  0.082  0.769  0.148  34915.800781\n",
       "\n",
       "[352170 rows x 6 columns]"
      ]
     },
     "execution_count": 26,
     "metadata": {},
     "output_type": "execute_result"
    }
   ],
   "source": [
    "final_data"
   ]
  },
  {
   "cell_type": "code",
   "execution_count": 27,
   "metadata": {
    "execution": {
     "iopub.execute_input": "2020-11-19T14:48:47.381981Z",
     "iopub.status.busy": "2020-11-19T14:48:47.381181Z",
     "iopub.status.idle": "2020-11-19T14:48:47.385835Z",
     "shell.execute_reply": "2020-11-19T14:48:47.385250Z"
    },
    "papermill": {
     "duration": 0.081285,
     "end_time": "2020-11-19T14:48:47.385953",
     "exception": false,
     "start_time": "2020-11-19T14:48:47.304668",
     "status": "completed"
    },
    "tags": []
   },
   "outputs": [],
   "source": [
    "X=final_data[['compound','neg','neu','pos']]\n",
    "Y=final_data[['Close']]"
   ]
  },
  {
   "cell_type": "code",
   "execution_count": 28,
   "metadata": {
    "execution": {
     "iopub.execute_input": "2020-11-19T14:48:47.504641Z",
     "iopub.status.busy": "2020-11-19T14:48:47.503678Z",
     "iopub.status.idle": "2020-11-19T14:48:47.506099Z",
     "shell.execute_reply": "2020-11-19T14:48:47.505429Z"
    },
    "papermill": {
     "duration": 0.077333,
     "end_time": "2020-11-19T14:48:47.506224",
     "exception": false,
     "start_time": "2020-11-19T14:48:47.428891",
     "status": "completed"
    },
    "tags": []
   },
   "outputs": [],
   "source": [
    "from sklearn.model_selection import train_test_split\n",
    "from sklearn.metrics import r2_score"
   ]
  },
  {
   "cell_type": "code",
   "execution_count": 29,
   "metadata": {
    "execution": {
     "iopub.execute_input": "2020-11-19T14:48:47.657059Z",
     "iopub.status.busy": "2020-11-19T14:48:47.656128Z",
     "iopub.status.idle": "2020-11-19T14:48:47.730582Z",
     "shell.execute_reply": "2020-11-19T14:48:47.729277Z"
    },
    "papermill": {
     "duration": 0.14703,
     "end_time": "2020-11-19T14:48:47.730749",
     "exception": false,
     "start_time": "2020-11-19T14:48:47.583719",
     "status": "completed"
    },
    "tags": []
   },
   "outputs": [],
   "source": [
    "X_train,X_test,Y_train,Y_test=train_test_split(X,Y,test_size=0.33)"
   ]
  },
  {
   "cell_type": "code",
   "execution_count": 30,
   "metadata": {
    "execution": {
     "iopub.execute_input": "2020-11-19T14:48:47.848951Z",
     "iopub.status.busy": "2020-11-19T14:48:47.848102Z",
     "iopub.status.idle": "2020-11-19T14:48:47.872876Z",
     "shell.execute_reply": "2020-11-19T14:48:47.872387Z"
    },
    "papermill": {
     "duration": 0.075525,
     "end_time": "2020-11-19T14:48:47.872986",
     "exception": false,
     "start_time": "2020-11-19T14:48:47.797461",
     "status": "completed"
    },
    "tags": []
   },
   "outputs": [],
   "source": [
    "from sklearn import preprocessing\n",
    "mms=preprocessing.MinMaxScaler()\n",
    "X_train=mms.fit_transform(X_train)\n",
    "X_test=mms.fit_transform(X_test)\n",
    "Y_train=mms.fit_transform(Y_train)\n",
    "Y_test=mms.fit_transform(Y_test)"
   ]
  },
  {
   "cell_type": "code",
   "execution_count": 31,
   "metadata": {
    "execution": {
     "iopub.execute_input": "2020-11-19T14:48:47.962746Z",
     "iopub.status.busy": "2020-11-19T14:48:47.962111Z",
     "iopub.status.idle": "2020-11-19T14:48:47.966381Z",
     "shell.execute_reply": "2020-11-19T14:48:47.965756Z"
    },
    "papermill": {
     "duration": 0.051091,
     "end_time": "2020-11-19T14:48:47.966504",
     "exception": false,
     "start_time": "2020-11-19T14:48:47.915413",
     "status": "completed"
    },
    "tags": []
   },
   "outputs": [],
   "source": [
    "from keras.models import Sequential\n",
    "from keras.layers import Dense\n",
    "from keras import losses\n",
    "from keras import activations"
   ]
  },
  {
   "cell_type": "code",
   "execution_count": 32,
   "metadata": {
    "execution": {
     "iopub.execute_input": "2020-11-19T14:48:48.058748Z",
     "iopub.status.busy": "2020-11-19T14:48:48.058181Z",
     "iopub.status.idle": "2020-11-19T14:48:50.627148Z",
     "shell.execute_reply": "2020-11-19T14:48:50.626521Z"
    },
    "papermill": {
     "duration": 2.617195,
     "end_time": "2020-11-19T14:48:50.627295",
     "exception": false,
     "start_time": "2020-11-19T14:48:48.010100",
     "status": "completed"
    },
    "tags": []
   },
   "outputs": [],
   "source": [
    "model=Sequential()"
   ]
  },
  {
   "cell_type": "code",
   "execution_count": 33,
   "metadata": {
    "execution": {
     "iopub.execute_input": "2020-11-19T14:48:50.726482Z",
     "iopub.status.busy": "2020-11-19T14:48:50.725737Z",
     "iopub.status.idle": "2020-11-19T14:48:50.798499Z",
     "shell.execute_reply": "2020-11-19T14:48:50.797522Z"
    },
    "papermill": {
     "duration": 0.127577,
     "end_time": "2020-11-19T14:48:50.798608",
     "exception": false,
     "start_time": "2020-11-19T14:48:50.671031",
     "status": "completed"
    },
    "tags": []
   },
   "outputs": [],
   "source": [
    "model.add(Dense(4,activation=activations.sigmoid,input_shape=(4,)))\n",
    "# model.add(Dense(3,activation='relu',input_shape=(3,)))\n",
    "model.add(Dense(100,activation=activations.sigmoid))\n",
    "model.add(Dense(100,activation=activations.sigmoid))\n",
    "model.add(Dense(100,activation=activations.sigmoid))\n",
    "model.add(Dense(100,activation=activations.sigmoid))\n",
    "model.add(Dense(100,activation=activations.sigmoid))\n",
    "model.add(Dense(1,activation=activations.sigmoid))"
   ]
  },
  {
   "cell_type": "code",
   "execution_count": 34,
   "metadata": {
    "execution": {
     "iopub.execute_input": "2020-11-19T14:48:50.895655Z",
     "iopub.status.busy": "2020-11-19T14:48:50.894665Z",
     "iopub.status.idle": "2020-11-19T14:48:50.901144Z",
     "shell.execute_reply": "2020-11-19T14:48:50.900633Z"
    },
    "papermill": {
     "duration": 0.059684,
     "end_time": "2020-11-19T14:48:50.901243",
     "exception": false,
     "start_time": "2020-11-19T14:48:50.841559",
     "status": "completed"
    },
    "tags": []
   },
   "outputs": [],
   "source": [
    "model.compile(optimizer='adam',loss=losses.mean_absolute_error)"
   ]
  },
  {
   "cell_type": "code",
   "execution_count": 35,
   "metadata": {
    "execution": {
     "iopub.execute_input": "2020-11-19T14:48:50.993315Z",
     "iopub.status.busy": "2020-11-19T14:48:50.992580Z",
     "iopub.status.idle": "2020-11-19T14:49:06.828528Z",
     "shell.execute_reply": "2020-11-19T14:49:06.827520Z"
    },
    "papermill": {
     "duration": 15.883755,
     "end_time": "2020-11-19T14:49:06.828651",
     "exception": false,
     "start_time": "2020-11-19T14:48:50.944896",
     "status": "completed"
    },
    "tags": []
   },
   "outputs": [
    {
     "name": "stdout",
     "output_type": "stream",
     "text": [
      "7374/7374 - 15s - loss: 0.1377\n"
     ]
    },
    {
     "data": {
      "text/plain": [
       "<tensorflow.python.keras.callbacks.History at 0x7f7178325090>"
      ]
     },
     "execution_count": 35,
     "metadata": {},
     "output_type": "execute_result"
    }
   ],
   "source": [
    "model.fit(X_train,Y_train,verbose=2)"
   ]
  },
  {
   "cell_type": "code",
   "execution_count": 36,
   "metadata": {
    "execution": {
     "iopub.execute_input": "2020-11-19T14:49:06.920421Z",
     "iopub.status.busy": "2020-11-19T14:49:06.919612Z",
     "iopub.status.idle": "2020-11-19T14:49:09.749671Z",
     "shell.execute_reply": "2020-11-19T14:49:09.748615Z"
    },
    "papermill": {
     "duration": 2.87724,
     "end_time": "2020-11-19T14:49:09.749802",
     "exception": false,
     "start_time": "2020-11-19T14:49:06.872562",
     "status": "completed"
    },
    "tags": []
   },
   "outputs": [],
   "source": [
    "y_pred=model.predict(X_test)"
   ]
  },
  {
   "cell_type": "code",
   "execution_count": 37,
   "metadata": {
    "execution": {
     "iopub.execute_input": "2020-11-19T14:49:09.842278Z",
     "iopub.status.busy": "2020-11-19T14:49:09.841620Z",
     "iopub.status.idle": "2020-11-19T14:49:09.849474Z",
     "shell.execute_reply": "2020-11-19T14:49:09.850079Z"
    },
    "papermill": {
     "duration": 0.055788,
     "end_time": "2020-11-19T14:49:09.850235",
     "exception": false,
     "start_time": "2020-11-19T14:49:09.794447",
     "status": "completed"
    },
    "tags": []
   },
   "outputs": [
    {
     "name": "stdout",
     "output_type": "stream",
     "text": [
      "-0.002419006924195388\n"
     ]
    }
   ],
   "source": [
    "print(r2_score(Y_test,y_pred))"
   ]
  },
  {
   "cell_type": "code",
   "execution_count": 38,
   "metadata": {
    "execution": {
     "iopub.execute_input": "2020-11-19T14:49:09.942440Z",
     "iopub.status.busy": "2020-11-19T14:49:09.941788Z",
     "iopub.status.idle": "2020-11-19T14:49:09.947121Z",
     "shell.execute_reply": "2020-11-19T14:49:09.947557Z"
    },
    "papermill": {
     "duration": 0.053351,
     "end_time": "2020-11-19T14:49:09.947670",
     "exception": false,
     "start_time": "2020-11-19T14:49:09.894319",
     "status": "completed"
    },
    "tags": []
   },
   "outputs": [
    {
     "data": {
      "text/plain": [
       "array([[0.66092014],\n",
       "       [0.66092014],\n",
       "       [0.6609201 ],\n",
       "       ...,\n",
       "       [0.66092014],\n",
       "       [0.6609201 ],\n",
       "       [0.6609201 ]], dtype=float32)"
      ]
     },
     "execution_count": 38,
     "metadata": {},
     "output_type": "execute_result"
    }
   ],
   "source": [
    "y_pred"
   ]
  },
  {
   "cell_type": "code",
   "execution_count": 39,
   "metadata": {
    "execution": {
     "iopub.execute_input": "2020-11-19T14:49:10.045337Z",
     "iopub.status.busy": "2020-11-19T14:49:10.044551Z",
     "iopub.status.idle": "2020-11-19T14:49:10.048516Z",
     "shell.execute_reply": "2020-11-19T14:49:10.048992Z"
    },
    "papermill": {
     "duration": 0.056968,
     "end_time": "2020-11-19T14:49:10.049130",
     "exception": false,
     "start_time": "2020-11-19T14:49:09.992162",
     "status": "completed"
    },
    "tags": []
   },
   "outputs": [
    {
     "data": {
      "text/plain": [
       "array([[0.45868901],\n",
       "       [0.59901   ],\n",
       "       [0.92716663],\n",
       "       ...,\n",
       "       [0.5291167 ],\n",
       "       [0.71044364],\n",
       "       [0.81132447]])"
      ]
     },
     "execution_count": 39,
     "metadata": {},
     "output_type": "execute_result"
    }
   ],
   "source": [
    "Y_test"
   ]
  },
  {
   "cell_type": "code",
   "execution_count": 40,
   "metadata": {
    "execution": {
     "iopub.execute_input": "2020-11-19T14:49:10.148398Z",
     "iopub.status.busy": "2020-11-19T14:49:10.147539Z",
     "iopub.status.idle": "2020-11-19T14:49:20.665427Z",
     "shell.execute_reply": "2020-11-19T14:49:20.666441Z"
    },
    "papermill": {
     "duration": 10.570741,
     "end_time": "2020-11-19T14:49:20.666616",
     "exception": false,
     "start_time": "2020-11-19T14:49:10.095875",
     "status": "completed"
    },
    "tags": []
   },
   "outputs": [
    {
     "name": "stdout",
     "output_type": "stream",
     "text": [
      "7374/7374 [==============================] - 10s 1ms/step - loss: 0.1387\n"
     ]
    },
    {
     "data": {
      "text/plain": [
       "0.1386895775794983"
      ]
     },
     "execution_count": 40,
     "metadata": {},
     "output_type": "execute_result"
    }
   ],
   "source": [
    "model.evaluate(X_train,Y_train)"
   ]
  },
  {
   "cell_type": "code",
   "execution_count": 41,
   "metadata": {
    "execution": {
     "iopub.execute_input": "2020-11-19T14:49:20.915602Z",
     "iopub.status.busy": "2020-11-19T14:49:20.914543Z",
     "iopub.status.idle": "2020-11-19T14:49:26.418011Z",
     "shell.execute_reply": "2020-11-19T14:49:26.417459Z"
    },
    "papermill": {
     "duration": 5.628853,
     "end_time": "2020-11-19T14:49:26.418151",
     "exception": false,
     "start_time": "2020-11-19T14:49:20.789298",
     "status": "completed"
    },
    "tags": []
   },
   "outputs": [
    {
     "name": "stdout",
     "output_type": "stream",
     "text": [
      "3632/3632 [==============================] - 5s 2ms/step - loss: 0.1386\n"
     ]
    },
    {
     "data": {
      "text/plain": [
       "0.13857926428318024"
      ]
     },
     "execution_count": 41,
     "metadata": {},
     "output_type": "execute_result"
    }
   ],
   "source": [
    "model.evaluate(X_test,Y_test)"
   ]
  },
  {
   "cell_type": "code",
   "execution_count": 42,
   "metadata": {
    "execution": {
     "iopub.execute_input": "2020-11-19T14:49:26.754698Z",
     "iopub.status.busy": "2020-11-19T14:49:26.753814Z",
     "iopub.status.idle": "2020-11-19T14:49:32.635132Z",
     "shell.execute_reply": "2020-11-19T14:49:32.634598Z"
    },
    "papermill": {
     "duration": 6.038809,
     "end_time": "2020-11-19T14:49:32.635247",
     "exception": false,
     "start_time": "2020-11-19T14:49:26.596438",
     "status": "completed"
    },
    "tags": []
   },
   "outputs": [
    {
     "name": "stdout",
     "output_type": "stream",
     "text": [
      "3632/3632 [==============================] - 6s 2ms/step - loss: 0.0000e+00\n"
     ]
    },
    {
     "data": {
      "text/plain": [
       "0.0"
      ]
     },
     "execution_count": 42,
     "metadata": {},
     "output_type": "execute_result"
    }
   ],
   "source": [
    "model.evaluate(X_test,y_pred)"
   ]
  },
  {
   "cell_type": "code",
   "execution_count": 43,
   "metadata": {
    "execution": {
     "iopub.execute_input": "2020-11-19T14:49:33.036379Z",
     "iopub.status.busy": "2020-11-19T14:49:33.035424Z",
     "iopub.status.idle": "2020-11-19T14:49:33.042307Z",
     "shell.execute_reply": "2020-11-19T14:49:33.041789Z"
    },
    "papermill": {
     "duration": 0.209744,
     "end_time": "2020-11-19T14:49:33.042416",
     "exception": false,
     "start_time": "2020-11-19T14:49:32.832672",
     "status": "completed"
    },
    "tags": []
   },
   "outputs": [
    {
     "data": {
      "text/plain": [
       "[array([[-0.56858695, -0.37018025,  0.21274781, -0.7616031 ],\n",
       "        [ 0.49432385,  0.29404825, -0.5707292 ,  0.10453425],\n",
       "        [ 0.38216266, -0.6177474 , -0.06299996, -0.71637774],\n",
       "        [ 0.5554231 , -0.17513655,  0.5817616 ,  0.5351395 ]],\n",
       "       dtype=float32),\n",
       " array([0.17470165, 0.08508462, 0.05980535, 0.05037799], dtype=float32)]"
      ]
     },
     "execution_count": 43,
     "metadata": {},
     "output_type": "execute_result"
    }
   ],
   "source": [
    "model.layers[0].get_weights()"
   ]
  },
  {
   "cell_type": "markdown",
   "metadata": {
    "papermill": {
     "duration": 0.195679,
     "end_time": "2020-11-19T14:49:33.435485",
     "exception": false,
     "start_time": "2020-11-19T14:49:33.239806",
     "status": "completed"
    },
    "tags": []
   },
   "source": [
    "MLP "
   ]
  },
  {
   "cell_type": "code",
   "execution_count": 44,
   "metadata": {
    "execution": {
     "iopub.execute_input": "2020-11-19T14:49:33.835078Z",
     "iopub.status.busy": "2020-11-19T14:49:33.834330Z",
     "iopub.status.idle": "2020-11-19T14:49:33.846118Z",
     "shell.execute_reply": "2020-11-19T14:49:33.845561Z"
    },
    "papermill": {
     "duration": 0.211267,
     "end_time": "2020-11-19T14:49:33.846221",
     "exception": false,
     "start_time": "2020-11-19T14:49:33.634954",
     "status": "completed"
    },
    "tags": []
   },
   "outputs": [],
   "source": [
    "from sklearn.neural_network import MLPRegressor,MLPClassifier\n",
    "from sklearn.metrics import r2_score,mean_absolute_error,mean_squared_error,mean_squared_log_error,median_absolute_error"
   ]
  },
  {
   "cell_type": "code",
   "execution_count": 45,
   "metadata": {
    "execution": {
     "iopub.execute_input": "2020-11-19T14:49:34.248565Z",
     "iopub.status.busy": "2020-11-19T14:49:34.247815Z",
     "iopub.status.idle": "2020-11-19T14:49:45.209216Z",
     "shell.execute_reply": "2020-11-19T14:49:45.208177Z"
    },
    "papermill": {
     "duration": 11.16433,
     "end_time": "2020-11-19T14:49:45.209345",
     "exception": false,
     "start_time": "2020-11-19T14:49:34.045015",
     "status": "completed"
    },
    "tags": []
   },
   "outputs": [
    {
     "name": "stderr",
     "output_type": "stream",
     "text": [
      "/opt/conda/lib/python3.7/site-packages/sklearn/utils/validation.py:72: DataConversionWarning: A column-vector y was passed when a 1d array was expected. Please change the shape of y to (n_samples, ), for example using ravel().\n",
      "  return f(**kwargs)\n"
     ]
    },
    {
     "data": {
      "text/plain": [
       "MLPRegressor(hidden_layer_sizes=(3, 2), learning_rate='adaptive')"
      ]
     },
     "execution_count": 45,
     "metadata": {},
     "output_type": "execute_result"
    }
   ],
   "source": [
    "MLP=MLPRegressor(hidden_layer_sizes=(3,2),learning_rate='adaptive')\n",
    "MLP.fit(X_train,Y_train)"
   ]
  },
  {
   "cell_type": "code",
   "execution_count": 46,
   "metadata": {
    "execution": {
     "iopub.execute_input": "2020-11-19T14:49:45.614635Z",
     "iopub.status.busy": "2020-11-19T14:49:45.613605Z",
     "iopub.status.idle": "2020-11-19T14:49:45.628526Z",
     "shell.execute_reply": "2020-11-19T14:49:45.629215Z"
    },
    "papermill": {
     "duration": 0.217106,
     "end_time": "2020-11-19T14:49:45.629357",
     "exception": false,
     "start_time": "2020-11-19T14:49:45.412251",
     "status": "completed"
    },
    "tags": []
   },
   "outputs": [],
   "source": [
    "Y_predicted=MLP.predict(X_test)"
   ]
  },
  {
   "cell_type": "code",
   "execution_count": 47,
   "metadata": {
    "execution": {
     "iopub.execute_input": "2020-11-19T14:49:46.068006Z",
     "iopub.status.busy": "2020-11-19T14:49:46.066904Z",
     "iopub.status.idle": "2020-11-19T14:49:46.073374Z",
     "shell.execute_reply": "2020-11-19T14:49:46.074107Z"
    },
    "papermill": {
     "duration": 0.208013,
     "end_time": "2020-11-19T14:49:46.074276",
     "exception": false,
     "start_time": "2020-11-19T14:49:45.866263",
     "status": "completed"
    },
    "tags": []
   },
   "outputs": [
    {
     "name": "stdout",
     "output_type": "stream",
     "text": [
      "0.0006773143825098416\n"
     ]
    }
   ],
   "source": [
    "print(r2_score(Y_test,Y_predicted))"
   ]
  },
  {
   "cell_type": "code",
   "execution_count": null,
   "metadata": {
    "papermill": {
     "duration": 0.203088,
     "end_time": "2020-11-19T14:49:46.481187",
     "exception": false,
     "start_time": "2020-11-19T14:49:46.278099",
     "status": "completed"
    },
    "tags": []
   },
   "outputs": [],
   "source": []
  }
 ],
 "metadata": {
  "kernelspec": {
   "display_name": "Python 3",
   "language": "python",
   "name": "python3"
  },
  "language_info": {
   "codemirror_mode": {
    "name": "ipython",
    "version": 3
   },
   "file_extension": ".py",
   "mimetype": "text/x-python",
   "name": "python",
   "nbconvert_exporter": "python",
   "pygments_lexer": "ipython3",
   "version": "3.7.6"
  },
  "papermill": {
   "duration": 147.871049,
   "end_time": "2020-11-19T14:49:48.183233",
   "environment_variables": {},
   "exception": null,
   "input_path": "__notebook__.ipynb",
   "output_path": "__notebook__.ipynb",
   "parameters": {},
   "start_time": "2020-11-19T14:47:20.312184",
   "version": "2.1.0"
  }
 },
 "nbformat": 4,
 "nbformat_minor": 4
}
